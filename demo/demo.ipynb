{
 "cells": [
  {
   "cell_type": "markdown",
   "metadata": {},
   "source": [
    "# Writing Python Code Like Typescript"
   ]
  },
  {
   "cell_type": "markdown",
   "metadata": {},
   "source": [
    "## Why we need typesafety"
   ]
  },
  {
   "cell_type": "code",
   "execution_count": null,
   "metadata": {},
   "outputs": [],
   "source": [
    "def send_email(sender, receiver, message):\n",
    "    ..."
   ]
  },
  {
   "cell_type": "markdown",
   "metadata": {},
   "source": [
    "Can you guess what is function for and what parameter that we need in order to use this function by just it's function name and parameter?"
   ]
  },
  {
   "cell_type": "markdown",
   "metadata": {},
   "source": [
    "### First Guess"
   ]
  },
  {
   "cell_type": "code",
   "execution_count": null,
   "metadata": {},
   "outputs": [],
   "source": [
    "send_email(sender=\"john@mail.com\", receiver=\"doe@mail.com\", message=\"Hello doe! How are you?\")"
   ]
  },
  {
   "cell_type": "markdown",
   "metadata": {},
   "source": [
    "### Second Guess"
   ]
  },
  {
   "cell_type": "code",
   "execution_count": null,
   "metadata": {},
   "outputs": [],
   "source": [
    "john_user_id = 1\n",
    "doe_user_id = 2\n",
    "send_email(sender=1, receiver=2, message=\"Hello doe! How are you?\")"
   ]
  },
  {
   "cell_type": "markdown",
   "metadata": {},
   "source": [
    "### Third Guess"
   ]
  },
  {
   "cell_type": "code",
   "execution_count": null,
   "metadata": {},
   "outputs": [],
   "source": [
    "john = {\n",
    "    \"id\": 1,\n",
    "    \"username\": \"john\",\n",
    "    \"email\": \"john@mail.com\"\n",
    "}\n",
    "doe = {\n",
    "    \"id\": 2,\n",
    "    \"username\": \"doe\",\n",
    "    \"email\": \"doe@mail.com\"\n",
    "}\n",
    "message = {\n",
    "    \"title\": \"Greeting my friend doe\",\n",
    "    \"body\": \"Hello doe! How are you?\"\n",
    "}\n",
    "send_email(sender=john, receiver=doe, message=message)"
   ]
  },
  {
   "cell_type": "markdown",
   "metadata": {},
   "source": [
    "### Forth Guess"
   ]
  },
  {
   "cell_type": "code",
   "execution_count": null,
   "metadata": {},
   "outputs": [],
   "source": [
    "class User():\n",
    "\n",
    "    def __init__(self, id, username, email):\n",
    "        self.id = id\n",
    "        self.username = username\n",
    "        self.email = email\n",
    "\n",
    "john = User(id=1, username=\"john\", email=\"john@mail.com\")\n",
    "doe = User(id=2, username=\"doe\", email=\"doe@mail.com\")\n",
    "message = {\n",
    "    \"title\": \"Greeting my friend doe\",\n",
    "    \"body\": \"Hello doe! How are you?\"\n",
    "}\n",
    "send_email(sender=john, receiver=doe, message=message)"
   ]
  },
  {
   "cell_type": "markdown",
   "metadata": {},
   "source": [
    "### So Which one is the correct answer ???"
   ]
  },
  {
   "cell_type": "markdown",
   "metadata": {},
   "source": [
    "- We cannot sure unless we see the code implementation\n",
    "- In order to use function we just need to know:\n",
    "    - What function do?\n",
    "    - Input\n",
    "    - Output\n",
    "\n",
    "example: [numpy sort](https://numpy.org/doc/stable/reference/generated/numpy.sort.html)"
   ]
  },
  {
   "cell_type": "markdown",
   "metadata": {},
   "source": [
    "## The Solution"
   ]
  },
  {
   "cell_type": "markdown",
   "metadata": {},
   "source": [
    "### Docstring"
   ]
  },
  {
   "cell_type": "code",
   "execution_count": null,
   "metadata": {},
   "outputs": [],
   "source": [
    "def add(x, y):\n",
    "    \"\"\"Add two number\n",
    "\n",
    "    Parameter:\\n\n",
    "    x -- int\\n\n",
    "    y -- int\\n\n",
    "\n",
    "    Return: int\n",
    "    \"\"\"\n",
    "    return x + y\n",
    "\n",
    "def send_email(sender, receiver, message):\n",
    "    \"\"\"Send email from sender to receiver\n",
    "\n",
    "    Parameter:\\n\n",
    "    sender -- email sender, class User\\n\n",
    "    receiver -- email receiver, class User\\n\n",
    "    message -- body of the email, dictionary (ex: {\"title\": \"some title\", \"body\": \"email body\"}\\n\n",
    "\n",
    "    Return: None\n",
    "    \"\"\"\n",
    "    ..."
   ]
  },
  {
   "cell_type": "markdown",
   "metadata": {},
   "source": [
    "- Pros:\n",
    "    - Simple to use\n",
    "    - No extra depedencies\n",
    "- Cons:\n",
    "    - Synchronization between docstring and code implementation"
   ]
  },
  {
   "cell_type": "markdown",
   "metadata": {},
   "source": [
    "### Docstring + Doctest"
   ]
  },
  {
   "cell_type": "code",
   "execution_count": null,
   "metadata": {},
   "outputs": [],
   "source": [
    "def add(x, y):\n",
    "    \"\"\"Add two integer\n",
    "\n",
    "    Parameter:\\n\n",
    "    x -- int\\n\n",
    "    y -- int\\n\n",
    "\n",
    "    Return: int\n",
    "    >>> add(1, 2)\n",
    "    3\n",
    "    \"\"\"\n",
    "    return x + y\n",
    "\n",
    "\n",
    "if __name__ == \"__main__\":\n",
    "    import doctest\n",
    "\n",
    "    doctest.testmod()"
   ]
  },
  {
   "cell_type": "markdown",
   "metadata": {},
   "source": [
    "- Pros:\n",
    "    - Simple to use\n",
    "    - No extra depedencies\n",
    "- Cons:\n",
    "    - Not every function can be tested using doctest (example function that use external service like database, SMTP server, etc)"
   ]
  },
  {
   "cell_type": "markdown",
   "metadata": {},
   "source": [
    "### Can we check some function is error or not by not running it?"
   ]
  },
  {
   "cell_type": "markdown",
   "metadata": {},
   "source": [
    "\"Yes\""
   ]
  },
  {
   "cell_type": "code",
   "execution_count": null,
   "metadata": {},
   "outputs": [],
   "source": [
    "def add(x, y):\n",
    "    \"\"\"Add two number\n",
    "\n",
    "    Parameter:\\n\n",
    "    x -- int\\n\n",
    "    y -- int\\n\n",
    "\n",
    "    Return: int\n",
    "    \"\"\"\n",
    "    return x + y\n",
    "\n",
    "def sub(x, y):\n",
    "    \"\"\"Add two number\n",
    "\n",
    "    Parameter:\\n\n",
    "    x -- int\\n\n",
    "    y -- int\\n\n",
    "\n",
    "    Return: int\n",
    "    \"\"\"\n",
    "    return x - y\n",
    "\n",
    "a = add(1, 2)\n",
    "b = add(1, 1)\n",
    "c = sub(a, b)\n",
    "print(c)"
   ]
  },
  {
   "cell_type": "markdown",
   "metadata": {},
   "source": [
    "### Python Typing"
   ]
  },
  {
   "cell_type": "code",
   "execution_count": null,
   "metadata": {},
   "outputs": [],
   "source": [
    "def add(x: int, y: int) -> int:\n",
    "    \"\"\"add two integer\"\"\"\n",
    "    return x + y\n",
    "\n",
    "add(1, [])"
   ]
  },
  {
   "cell_type": "markdown",
   "metadata": {},
   "source": [
    "#### let's compare with non typed version"
   ]
  },
  {
   "cell_type": "code",
   "execution_count": 3,
   "metadata": {},
   "outputs": [],
   "source": [
    "def add_no_type(x, y):\n",
    "    \"\"\"add two integer\"\"\"\n",
    "    return x + y\n",
    "\n",
    "def add_with_type(x: int, y: int) -> int:\n",
    "    \"\"\"add two integer\"\"\"\n",
    "    return x + y"
   ]
  },
  {
   "cell_type": "code",
   "execution_count": null,
   "metadata": {},
   "outputs": [],
   "source": [
    "add_no_type(1, [])"
   ]
  },
  {
   "cell_type": "code",
   "execution_count": null,
   "metadata": {},
   "outputs": [],
   "source": [
    "add_with_type(1, [])"
   ]
  },
  {
   "cell_type": "code",
   "execution_count": null,
   "metadata": {},
   "outputs": [],
   "source": [
    "add_no_type(\"hello\", \"world\")"
   ]
  },
  {
   "cell_type": "code",
   "execution_count": null,
   "metadata": {},
   "outputs": [],
   "source": [
    "add_with_type(\"hello\", \"world\")"
   ]
  },
  {
   "cell_type": "markdown",
   "metadata": {},
   "source": [
    "#### hmmm"
   ]
  },
  {
   "cell_type": "markdown",
   "metadata": {},
   "source": [
    "hmmm... seems python typing doesn't show any error, when get wrong typed. but why?"
   ]
  },
  {
   "cell_type": "markdown",
   "metadata": {},
   "source": [
    "Based on [pep-3107](https://peps.python.org/pep-3107/#fundamentals-of-function-annotations) it said\n",
    "> Before launching into a discussion of the precise ins and outs of Python 3.0’s function annotations, let’s first talk broadly about what annotations are and are not:\n",
    ">\n",
    "> 1. Function annotations, both for parameters and return values, are completely optional.\n",
    "> 2. Function annotations are nothing more than a way of associating arbitrary Python expressions with various parts of a function at compile-time.\n",
    "> By itself, Python does not attach any particular meaning or significance to annotations. Left to its own, Python simply makes these expressions available as described in Accessing Function Annotations below.\n",
    ">\n",
    "> The only way that annotations take on meaning is when they are interpreted by third-party libraries. ...\n",
    "\n",
    "So in python typing is like a decorator in typescript or java it doesn't mean anything. You need third party libraries todo type checking. Let's see some library for typechecking."
   ]
  },
  {
   "cell_type": "markdown",
   "metadata": {},
   "source": [
    "### Python Typing + Type Checker"
   ]
  },
  {
   "cell_type": "markdown",
   "metadata": {},
   "source": [
    "#### [mypy](https://mypy.readthedocs.io/)\n",
    "\n",
    "The \"OG\" of python type checker. To install it just using pip `pip install mypy`."
   ]
  },
  {
   "cell_type": "markdown",
   "metadata": {},
   "source": [
    "#### [pyright](https://microsoft.github.io/pyright/)\n",
    "It created by microsoft. It's same like mypy install through pip `pip install pyright`. It said that it's more faster than mypy but I found that's not much diffrent. Maybe my code base it's to small. Also pyright implement more python standard than mypy you can see on [https://microsoft.github.io/pyright/#/mypy-comparison](https://microsoft.github.io/pyright/#/mypy-comparison)."
   ]
  },
  {
   "cell_type": "markdown",
   "metadata": {},
   "source": [
    "#### [pylyzer](https://github.com/mtshiba/pylyzer)\n",
    "\n",
    "It's written in rust. You can install it through pip `pip install pylyzer` or through cargo (rust package manager) `cargo install pylyzer --locked`."
   ]
  }
 ],
 "metadata": {
  "kernelspec": {
   "display_name": "env",
   "language": "python",
   "name": "python3"
  },
  "language_info": {
   "codemirror_mode": {
    "name": "ipython",
    "version": 3
   },
   "file_extension": ".py",
   "mimetype": "text/x-python",
   "name": "python",
   "nbconvert_exporter": "python",
   "pygments_lexer": "ipython3",
   "version": "3.12.1"
  }
 },
 "nbformat": 4,
 "nbformat_minor": 2
}
